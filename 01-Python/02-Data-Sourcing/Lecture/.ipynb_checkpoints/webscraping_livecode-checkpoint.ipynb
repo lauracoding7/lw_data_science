{
 "cells": [
  {
   "cell_type": "markdown",
   "id": "05069e31",
   "metadata": {},
   "source": [
    "# LIVECODE WEBSCRAPING"
   ]
  },
  {
   "cell_type": "markdown",
   "id": "0b511eef",
   "metadata": {},
   "source": [
    "Let's scrape IMDb Top 50 and extract the following information for each movie:\n",
    "\n",
    "- Title\n",
    "- Duration\n",
    "\n",
    "Link: https://www.imdb.com/list/ls055386972/"
   ]
  },
  {
   "cell_type": "markdown",
   "id": "e960c5e1",
   "metadata": {},
   "source": [
    "### Output we want to generate (pseudocode)"
   ]
  },
  {
   "cell_type": "code",
   "execution_count": 1,
   "id": "5df5d3a6",
   "metadata": {},
   "outputs": [],
   "source": [
    "# movies = [{'title': title1, 'duration': duration1}, {'title': title2, 'duration': duration2}, ...]"
   ]
  },
  {
   "cell_type": "markdown",
   "id": "fa57c681",
   "metadata": {},
   "source": [
    "### First things first - let's import the python libraries! "
   ]
  },
  {
   "cell_type": "code",
   "execution_count": 2,
   "id": "3453d6e6",
   "metadata": {},
   "outputs": [],
   "source": [
    "import requests # for our http requests to the server\n",
    "from bs4 import BeautifulSoup # for scraping data from the website"
   ]
  },
  {
   "cell_type": "markdown",
   "id": "ad8499c7",
   "metadata": {},
   "source": [
    "### Let's first create our soup object! "
   ]
  },
  {
   "cell_type": "code",
   "execution_count": 3,
   "id": "fc506ebf",
   "metadata": {},
   "outputs": [],
   "source": [
    "# what is our url?\n",
    "\n",
    "# what is our response? \n",
    "\n",
    "# What is the content of our response? "
   ]
  },
  {
   "cell_type": "markdown",
   "id": "7229ff84",
   "metadata": {},
   "source": [
    "### How can we extract the titles? "
   ]
  },
  {
   "cell_type": "code",
   "execution_count": 4,
   "id": "8d8bb590",
   "metadata": {},
   "outputs": [],
   "source": [
    "# YOUR CODE HERE "
   ]
  },
  {
   "cell_type": "markdown",
   "id": "e88564e5",
   "metadata": {},
   "source": [
    "### How can we extract the duration? "
   ]
  },
  {
   "cell_type": "code",
   "execution_count": 5,
   "id": "ffee7cd0",
   "metadata": {},
   "outputs": [],
   "source": [
    "# YOUR CODE HERE"
   ]
  },
  {
   "cell_type": "markdown",
   "id": "05f67c9e",
   "metadata": {},
   "source": [
    "### Let's create our output"
   ]
  },
  {
   "cell_type": "code",
   "execution_count": 6,
   "id": "0c3d5256",
   "metadata": {},
   "outputs": [],
   "source": [
    "# YOUR CODE HERE"
   ]
  }
 ],
 "metadata": {
  "kernelspec": {
   "display_name": "Python 3 (ipykernel)",
   "language": "python",
   "name": "python3"
  },
  "language_info": {
   "codemirror_mode": {
    "name": "ipython",
    "version": 3
   },
   "file_extension": ".py",
   "mimetype": "text/x-python",
   "name": "python",
   "nbconvert_exporter": "python",
   "pygments_lexer": "ipython3",
   "version": "3.10.6"
  },
  "toc": {
   "base_numbering": 1,
   "nav_menu": {},
   "number_sections": false,
   "sideBar": true,
   "skip_h1_title": false,
   "title_cell": "Table of Contents",
   "title_sidebar": "Contents",
   "toc_cell": false,
   "toc_position": {
    "height": "calc(100% - 180px)",
    "left": "10px",
    "top": "150px",
    "width": "165px"
   },
   "toc_section_display": true,
   "toc_window_display": false
  }
 },
 "nbformat": 4,
 "nbformat_minor": 5
}
