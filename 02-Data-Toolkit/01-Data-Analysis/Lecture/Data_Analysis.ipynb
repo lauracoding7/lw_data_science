{
 "cells": [
  {
   "cell_type": "code",
   "execution_count": 1,
   "id": "27c1d80b",
   "metadata": {},
   "outputs": [
    {
     "data": {
      "text/plain": [
       "7"
      ]
     },
     "execution_count": 1,
     "metadata": {},
     "output_type": "execute_result"
    }
   ],
   "source": [
    "3 + 4"
   ]
  },
  {
   "cell_type": "markdown",
   "id": "6b12bcb7",
   "metadata": {},
   "source": [
    "3 + 4"
   ]
  },
  {
   "cell_type": "markdown",
   "id": "0ce892db",
   "metadata": {},
   "source": [
    "This is a **markdown** cell"
   ]
  },
  {
   "cell_type": "markdown",
   "id": "6b58d4ba",
   "metadata": {},
   "source": [
    "# H1"
   ]
  },
  {
   "cell_type": "markdown",
   "id": "df271f99",
   "metadata": {},
   "source": [
    "## H2"
   ]
  },
  {
   "cell_type": "markdown",
   "id": "56f88637",
   "metadata": {},
   "source": [
    "### H3"
   ]
  },
  {
   "cell_type": "code",
   "execution_count": 2,
   "id": "ef3150e5",
   "metadata": {},
   "outputs": [
    {
     "name": "stdout",
     "output_type": "stream",
     "text": [
      "Data_Analysis.ipynb countries.csv       image.jpg\r\n"
     ]
    }
   ],
   "source": [
    "!ls"
   ]
  },
  {
   "cell_type": "markdown",
   "id": "c919eaa6",
   "metadata": {},
   "source": [
    "![animal](image.jpg)"
   ]
  },
  {
   "cell_type": "code",
   "execution_count": 3,
   "id": "a605155d",
   "metadata": {},
   "outputs": [
    {
     "data": {
      "text/plain": [
       "'Laura'"
      ]
     },
     "execution_count": 3,
     "metadata": {},
     "output_type": "execute_result"
    }
   ],
   "source": [
    "name = \"Laura\"\n",
    "name"
   ]
  },
  {
   "cell_type": "code",
   "execution_count": 4,
   "id": "41bf22ed",
   "metadata": {},
   "outputs": [
    {
     "data": {
      "text/plain": [
       "'Peter'"
      ]
     },
     "execution_count": 4,
     "metadata": {},
     "output_type": "execute_result"
    }
   ],
   "source": [
    "name = \"Peter\"\n",
    "name"
   ]
  },
  {
   "cell_type": "code",
   "execution_count": 5,
   "id": "8e9af47a",
   "metadata": {},
   "outputs": [
    {
     "data": {
      "text/plain": [
       "'Peter'"
      ]
     },
     "execution_count": 5,
     "metadata": {},
     "output_type": "execute_result"
    }
   ],
   "source": [
    "name "
   ]
  },
  {
   "cell_type": "markdown",
   "id": "521fb15c",
   "metadata": {},
   "source": [
    "# NumPy"
   ]
  },
  {
   "cell_type": "code",
   "execution_count": 44,
   "id": "69245dff",
   "metadata": {},
   "outputs": [],
   "source": [
    "import numpy as np # canonical import\n",
    "import pandas as pd # canonical import"
   ]
  },
  {
   "cell_type": "code",
   "execution_count": 6,
   "id": "74c9a5ad",
   "metadata": {},
   "outputs": [
    {
     "name": "stdout",
     "output_type": "stream",
     "text": [
      "<class 'list'>\n"
     ]
    },
    {
     "data": {
      "text/plain": [
       "[[1, 2, 3], [4, 5, 6]]"
      ]
     },
     "execution_count": 6,
     "metadata": {},
     "output_type": "execute_result"
    }
   ],
   "source": [
    "list_ = [[1, 2, 3], [4, 5, 6]]\n",
    "print(type(list_))\n",
    "\n",
    "list_ # list of lists"
   ]
  },
  {
   "cell_type": "code",
   "execution_count": 10,
   "id": "4b71e590",
   "metadata": {},
   "outputs": [
    {
     "name": "stdout",
     "output_type": "stream",
     "text": [
      "<class 'numpy.ndarray'>\n"
     ]
    },
    {
     "data": {
      "text/plain": [
       "array([[1, 2, 3],\n",
       "       [4, 5, 6]])"
      ]
     },
     "execution_count": 10,
     "metadata": {},
     "output_type": "execute_result"
    }
   ],
   "source": [
    "array = np.array(list_)\n",
    "\n",
    "print(type(array))\n",
    "\n",
    "array # ndarray"
   ]
  },
  {
   "cell_type": "code",
   "execution_count": 11,
   "id": "a5d5fc39",
   "metadata": {},
   "outputs": [
    {
     "data": {
      "text/plain": [
       "2"
      ]
     },
     "execution_count": 11,
     "metadata": {},
     "output_type": "execute_result"
    }
   ],
   "source": [
    "array.ndim"
   ]
  },
  {
   "cell_type": "code",
   "execution_count": 12,
   "id": "3c4d5a6f",
   "metadata": {},
   "outputs": [
    {
     "data": {
      "text/plain": [
       "(2, 3)"
      ]
     },
     "execution_count": 12,
     "metadata": {},
     "output_type": "execute_result"
    }
   ],
   "source": [
    "array.shape"
   ]
  },
  {
   "cell_type": "code",
   "execution_count": 13,
   "id": "1f58be47",
   "metadata": {},
   "outputs": [
    {
     "data": {
      "text/plain": [
       "6"
      ]
     },
     "execution_count": 13,
     "metadata": {},
     "output_type": "execute_result"
    }
   ],
   "source": [
    "array.size"
   ]
  },
  {
   "cell_type": "code",
   "execution_count": 14,
   "id": "0b07346e",
   "metadata": {},
   "outputs": [
    {
     "data": {
      "text/plain": [
       "dtype('int64')"
      ]
     },
     "execution_count": 14,
     "metadata": {},
     "output_type": "execute_result"
    }
   ],
   "source": [
    "array.dtype"
   ]
  },
  {
   "cell_type": "markdown",
   "id": "930f0a24",
   "metadata": {},
   "source": [
    "## Data Selection"
   ]
  },
  {
   "cell_type": "code",
   "execution_count": 15,
   "id": "a96ef26a",
   "metadata": {},
   "outputs": [
    {
     "data": {
      "text/plain": [
       "array([[ 0,  1,  2,  3,  4],\n",
       "       [10, 11, 12, 13, 14],\n",
       "       [20, 21, 22, 23, 24],\n",
       "       [30, 31, 32, 33, 34],\n",
       "       [40, 41, 42, 43, 44]])"
      ]
     },
     "execution_count": 15,
     "metadata": {},
     "output_type": "execute_result"
    }
   ],
   "source": [
    "# Let's build a 2D-array from a list of lists\n",
    "data_list = [\n",
    "    [ 0,  1,  2,  3,  4],\n",
    "    [10, 11, 12, 13, 14],\n",
    "    [20, 21, 22, 23, 24],\n",
    "    [30, 31, 32, 33, 34],\n",
    "    [40, 41, 42, 43, 44],\n",
    "]\n",
    "\n",
    "data_np = np.array(data_list)\n",
    "data_np"
   ]
  },
  {
   "cell_type": "markdown",
   "id": "6927d63a",
   "metadata": {},
   "source": [
    "### Python way (horizontally) "
   ]
  },
  {
   "cell_type": "code",
   "execution_count": 17,
   "id": "379a56fb",
   "metadata": {},
   "outputs": [
    {
     "data": {
      "text/plain": [
       "[21, 22, 23]"
      ]
     },
     "execution_count": 17,
     "metadata": {},
     "output_type": "execute_result"
    }
   ],
   "source": [
    "data_list[2][1:4]"
   ]
  },
  {
   "cell_type": "markdown",
   "id": "d18c3962",
   "metadata": {},
   "source": [
    "### NumPy way (horizontally) "
   ]
  },
  {
   "cell_type": "code",
   "execution_count": 19,
   "id": "e1237a11",
   "metadata": {},
   "outputs": [
    {
     "data": {
      "text/plain": [
       "array([21, 22, 23])"
      ]
     },
     "execution_count": 19,
     "metadata": {},
     "output_type": "execute_result"
    }
   ],
   "source": [
    "data_np[2, 1:4]"
   ]
  },
  {
   "cell_type": "markdown",
   "id": "bc3427f2",
   "metadata": {},
   "source": [
    "### Python way (vertically) "
   ]
  },
  {
   "cell_type": "code",
   "execution_count": 20,
   "id": "b60d5394",
   "metadata": {},
   "outputs": [
    {
     "data": {
      "text/plain": [
       "[14, 24, 34, 44]"
      ]
     },
     "execution_count": 20,
     "metadata": {},
     "output_type": "execute_result"
    }
   ],
   "source": [
    "# Pure Python\n",
    "selection = []\n",
    "\n",
    "for index, row in enumerate(data_list):\n",
    "    if index > 0:\n",
    "        selection.append(row[4])\n",
    "\n",
    "selection # we could also have used list comprehension for fewer lines"
   ]
  },
  {
   "cell_type": "markdown",
   "id": "0dcd9643",
   "metadata": {},
   "source": [
    "### NumPy way (verticallly) "
   ]
  },
  {
   "cell_type": "code",
   "execution_count": 21,
   "id": "a507ab43",
   "metadata": {},
   "outputs": [
    {
     "data": {
      "text/plain": [
       "array([14, 24, 34, 44])"
      ]
     },
     "execution_count": 21,
     "metadata": {},
     "output_type": "execute_result"
    }
   ],
   "source": [
    "data_np[1:, 4]"
   ]
  },
  {
   "cell_type": "code",
   "execution_count": 26,
   "id": "d9242e99",
   "metadata": {},
   "outputs": [
    {
     "data": {
      "text/plain": [
       "array([0, 1, 2, 3, 4, 5, 6, 7, 8, 9])"
      ]
     },
     "execution_count": 26,
     "metadata": {},
     "output_type": "execute_result"
    }
   ],
   "source": [
    "array = np.array([0, 1, 2, 3, 4, 5, 6, 7, 8, 9])\n",
    "array"
   ]
  },
  {
   "cell_type": "code",
   "execution_count": 28,
   "id": "b1f68184",
   "metadata": {},
   "outputs": [
    {
     "data": {
      "text/plain": [
       "array([1, 3, 5])"
      ]
     },
     "execution_count": 28,
     "metadata": {},
     "output_type": "execute_result"
    }
   ],
   "source": [
    "array[1:7:2]"
   ]
  },
  {
   "cell_type": "markdown",
   "id": "79e44538",
   "metadata": {},
   "source": [
    "## Vectorized Operations ⚡️"
   ]
  },
  {
   "cell_type": "code",
   "execution_count": 29,
   "id": "160b8c31",
   "metadata": {},
   "outputs": [
    {
     "data": {
      "text/plain": [
       "2"
      ]
     },
     "execution_count": 29,
     "metadata": {},
     "output_type": "execute_result"
    }
   ],
   "source": [
    "my_list = [\n",
    "    [6, 5],\n",
    "    [1, 3],\n",
    "    [5, 6],\n",
    "    [1, 4],\n",
    "    [3, 7],\n",
    "    [5, 8],\n",
    "    [3, 5],\n",
    "    [8, 4],\n",
    "]\n",
    "\n",
    "my_array = np.array(my_list)\n",
    "my_array.ndim"
   ]
  },
  {
   "cell_type": "markdown",
   "id": "68f3258b",
   "metadata": {},
   "source": [
    "### Python way"
   ]
  },
  {
   "cell_type": "code",
   "execution_count": 30,
   "id": "1ed7accc",
   "metadata": {},
   "outputs": [
    {
     "data": {
      "text/plain": [
       "[11, 4, 11, 5, 10, 13, 8, 12]"
      ]
     },
     "execution_count": 30,
     "metadata": {},
     "output_type": "execute_result"
    }
   ],
   "source": [
    "# Python way\n",
    "sums = []\n",
    "\n",
    "for row in my_list:\n",
    "    sums.append(row[0] + row[1]) # standard integer \"+\" operator\n",
    "\n",
    "sums"
   ]
  },
  {
   "cell_type": "markdown",
   "id": "1cac53f8",
   "metadata": {},
   "source": [
    "### NumPy way"
   ]
  },
  {
   "cell_type": "code",
   "execution_count": 33,
   "id": "3f96e9c6",
   "metadata": {},
   "outputs": [
    {
     "data": {
      "text/plain": [
       "array([11,  4, 11,  5, 10, 13,  8, 12])"
      ]
     },
     "execution_count": 33,
     "metadata": {},
     "output_type": "execute_result"
    }
   ],
   "source": [
    "my_array[:, 0] + my_array[:, 1]"
   ]
  },
  {
   "cell_type": "code",
   "execution_count": 34,
   "id": "e78d494a",
   "metadata": {},
   "outputs": [
    {
     "data": {
      "text/plain": [
       "array([11,  4, 11,  5, 10, 13,  8, 12])"
      ]
     },
     "execution_count": 34,
     "metadata": {},
     "output_type": "execute_result"
    }
   ],
   "source": [
    "np.sum(my_array, axis=1)"
   ]
  },
  {
   "cell_type": "code",
   "execution_count": 35,
   "id": "8d6e752d",
   "metadata": {},
   "outputs": [
    {
     "data": {
      "text/plain": [
       "array([32, 42])"
      ]
     },
     "execution_count": 35,
     "metadata": {},
     "output_type": "execute_result"
    }
   ],
   "source": [
    "np.sum(my_array, axis=0)"
   ]
  },
  {
   "cell_type": "markdown",
   "id": "dab5ccea",
   "metadata": {},
   "source": [
    "## How much faster is NumPy? ⚡️"
   ]
  },
  {
   "cell_type": "code",
   "execution_count": 36,
   "id": "6973e28b",
   "metadata": {},
   "outputs": [],
   "source": [
    "# 2D-array of shape (10.000, 10.000) with random floats in the interval [0, 1]. That's 100M numbers!\n",
    "array = np.random.rand(10000, 10000)\n",
    "array_list = array.tolist()"
   ]
  },
  {
   "cell_type": "code",
   "execution_count": 37,
   "id": "814062a6",
   "metadata": {},
   "outputs": [
    {
     "name": "stdout",
     "output_type": "stream",
     "text": [
      "CPU times: user 9.29 s, sys: 3.79 s, total: 13.1 s\n",
      "Wall time: 13.7 s\n"
     ]
    },
    {
     "data": {
      "text/plain": [
       "49996360.88"
      ]
     },
     "execution_count": 37,
     "metadata": {},
     "output_type": "execute_result"
    }
   ],
   "source": [
    "%%time\n",
    "total = 0\n",
    "\n",
    "for row in array_list:\n",
    "    for number in row:\n",
    "        total += number\n",
    "\n",
    "round(total, 2)"
   ]
  },
  {
   "cell_type": "code",
   "execution_count": 38,
   "id": "502a2dfd",
   "metadata": {},
   "outputs": [
    {
     "name": "stdout",
     "output_type": "stream",
     "text": [
      "CPU times: user 235 ms, sys: 847 ms, total: 1.08 s\n",
      "Wall time: 2.05 s\n"
     ]
    },
    {
     "data": {
      "text/plain": [
       "49996360.88"
      ]
     },
     "execution_count": 38,
     "metadata": {},
     "output_type": "execute_result"
    }
   ],
   "source": [
    "%%time\n",
    "round(np.sum(array), 2)"
   ]
  },
  {
   "cell_type": "markdown",
   "id": "e0a69310",
   "metadata": {},
   "source": [
    "## Boolean Indexing"
   ]
  },
  {
   "cell_type": "code",
   "execution_count": 42,
   "id": "b83af3c2",
   "metadata": {},
   "outputs": [
    {
     "data": {
      "text/plain": [
       "array([6, 6, 7, 8, 8])"
      ]
     },
     "execution_count": 42,
     "metadata": {},
     "output_type": "execute_result"
    }
   ],
   "source": [
    "my_list = [\n",
    "    [6, 5],\n",
    "    [1, 3],\n",
    "    [5, 6],\n",
    "    [1, 4],\n",
    "    [3, 7],\n",
    "    [5, 8],\n",
    "    [3, 5],\n",
    "    [8, 4],\n",
    "]\n",
    "\n",
    "my_array = np.array(my_list)\n",
    "\n",
    "#mask = my_array > 5\n",
    "my_array[my_array > 5]"
   ]
  },
  {
   "cell_type": "code",
   "execution_count": 43,
   "id": "3a8e20f1",
   "metadata": {},
   "outputs": [
    {
     "data": {
      "text/plain": [
       "array([[0, 5],\n",
       "       [1, 3],\n",
       "       [5, 0],\n",
       "       [1, 4],\n",
       "       [3, 0],\n",
       "       [5, 0],\n",
       "       [3, 5],\n",
       "       [0, 4]])"
      ]
     },
     "execution_count": 43,
     "metadata": {},
     "output_type": "execute_result"
    }
   ],
   "source": [
    "my_array[my_array > 5] = 0\n",
    "my_array"
   ]
  },
  {
   "cell_type": "markdown",
   "id": "ade85722",
   "metadata": {},
   "source": [
    "# Introduction to Pandas"
   ]
  },
  {
   "cell_type": "markdown",
   "id": "c53491a4",
   "metadata": {},
   "source": [
    "## Pandas Series"
   ]
  },
  {
   "cell_type": "code",
   "execution_count": 45,
   "id": "eaac7d9f",
   "metadata": {},
   "outputs": [
    {
     "data": {
      "text/plain": [
       "id1        1\n",
       "id2        2\n",
       "id3    three\n",
       "dtype: object"
      ]
     },
     "execution_count": 45,
     "metadata": {},
     "output_type": "execute_result"
    }
   ],
   "source": [
    "series = pd.Series(data=[1, 2, 'three'], index=['id1', 'id2', 'id3'])\n",
    "series = pd.Series({'id1': 1, 'id2': 2, 'id3': 'three'})\n",
    "\n",
    "series"
   ]
  },
  {
   "cell_type": "markdown",
   "id": "2a45b580",
   "metadata": {},
   "source": [
    "## Pandas Data Frame"
   ]
  },
  {
   "cell_type": "code",
   "execution_count": 47,
   "id": "5a687d09",
   "metadata": {},
   "outputs": [
    {
     "data": {
      "text/html": [
       "<div>\n",
       "<style scoped>\n",
       "    .dataframe tbody tr th:only-of-type {\n",
       "        vertical-align: middle;\n",
       "    }\n",
       "\n",
       "    .dataframe tbody tr th {\n",
       "        vertical-align: top;\n",
       "    }\n",
       "\n",
       "    .dataframe thead th {\n",
       "        text-align: right;\n",
       "    }\n",
       "</style>\n",
       "<table border=\"1\" class=\"dataframe\">\n",
       "  <thead>\n",
       "    <tr style=\"text-align: right;\">\n",
       "      <th></th>\n",
       "      <th>col_a</th>\n",
       "      <th>col_b</th>\n",
       "      <th>col_c</th>\n",
       "    </tr>\n",
       "  </thead>\n",
       "  <tbody>\n",
       "    <tr>\n",
       "      <th>row_3</th>\n",
       "      <td>4</td>\n",
       "      <td>7</td>\n",
       "      <td>10</td>\n",
       "    </tr>\n",
       "    <tr>\n",
       "      <th>row_2</th>\n",
       "      <td>5</td>\n",
       "      <td>8</td>\n",
       "      <td>11</td>\n",
       "    </tr>\n",
       "    <tr>\n",
       "      <th>row_1</th>\n",
       "      <td>6</td>\n",
       "      <td>9</td>\n",
       "      <td>12</td>\n",
       "    </tr>\n",
       "  </tbody>\n",
       "</table>\n",
       "</div>"
      ],
      "text/plain": [
       "       col_a  col_b  col_c\n",
       "row_3      4      7     10\n",
       "row_2      5      8     11\n",
       "row_1      6      9     12"
      ]
     },
     "execution_count": 47,
     "metadata": {},
     "output_type": "execute_result"
    }
   ],
   "source": [
    "df = pd.DataFrame(\n",
    "    [[4, 7, 10],\n",
    "    [5, 8, 11],\n",
    "    [6, 9, 12]],\n",
    "    index=['row_1', 'row_2', 'row_3'],\n",
    "    columns=['col_a', 'col_b', 'col_c']\n",
    ")\n",
    "\n",
    "df"
   ]
  },
  {
   "cell_type": "code",
   "execution_count": null,
   "id": "a5dab30a",
   "metadata": {},
   "outputs": [],
   "source": [
    "apples  = pd.Series(data=[1, 2, 3], index=['id1', 'id2', 'id3'])\n",
    "oranges = pd.Series(data=[4, 5, 6], index=['id1', 'id2', 'id3'])\n",
    "\n",
    "dict_ = {\n",
    "    'apples': apples,\n",
    "    'oranges': oranges,\n",
    "}\n",
    "\n",
    "pd.DataFrame(dict_)"
   ]
  }
 ],
 "metadata": {
  "kernelspec": {
   "display_name": "Python 3 (ipykernel)",
   "language": "python",
   "name": "python3"
  },
  "language_info": {
   "codemirror_mode": {
    "name": "ipython",
    "version": 3
   },
   "file_extension": ".py",
   "mimetype": "text/x-python",
   "name": "python",
   "nbconvert_exporter": "python",
   "pygments_lexer": "ipython3",
   "version": "3.10.6"
  },
  "toc": {
   "base_numbering": 1,
   "nav_menu": {},
   "number_sections": true,
   "sideBar": true,
   "skip_h1_title": false,
   "title_cell": "Table of Contents",
   "title_sidebar": "Contents",
   "toc_cell": false,
   "toc_position": {},
   "toc_section_display": true,
   "toc_window_display": false
  }
 },
 "nbformat": 4,
 "nbformat_minor": 5
}
