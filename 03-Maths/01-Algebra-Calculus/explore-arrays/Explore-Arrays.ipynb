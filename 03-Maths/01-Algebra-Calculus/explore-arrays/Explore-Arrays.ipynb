{
 "cells": [
  {
   "cell_type": "markdown",
   "metadata": {},
   "source": [
    "# Explore $n$-dimensional arrays"
   ]
  },
  {
   "cell_type": "code",
   "execution_count": null,
   "metadata": {},
   "outputs": [],
   "source": [
    "import matplotlib.pyplot as plt\n",
    "import numpy as np"
   ]
  },
  {
   "cell_type": "markdown",
   "metadata": {},
   "source": [
    "## Load the arrays"
   ]
  },
  {
   "cell_type": "markdown",
   "metadata": {},
   "source": [
    "👉 First, let's load four arrays stored in NPY format, using the [`numpy.load` function](https://numpy.org/doc/stable/reference/generated/numpy.load.html)."
   ]
  },
  {
   "cell_type": "code",
   "execution_count": null,
   "metadata": {},
   "outputs": [],
   "source": [
    "! curl https://wagon-public-datasets.s3.amazonaws.com/03-Maths/algebra_explore_arrays.zip --output arrays.zip\n",
    "! unzip arrays.zip\n",
    "! rm arrays.zip"
   ]
  },
  {
   "cell_type": "code",
   "execution_count": null,
   "metadata": {},
   "outputs": [],
   "source": [
    "array_1 = np.load(\"array_1.npy\")\n",
    "array_2 = np.load(\"array_2.npy\")\n",
    "array_3 = np.load(\"array_3.npy\")\n",
    "array_4 = np.load(\"array_4.npy\")"
   ]
  },
  {
   "cell_type": "code",
   "execution_count": null,
   "metadata": {},
   "outputs": [],
   "source": [
    "# Inspect their shape, size, ndim...\n",
    "\n",
    "for array in [array_1, array_2, array_3, array_4]:\n",
    "    print(array.ndim, \"|\", array.shape, \"|\", array.size, \"|\", array.dtype, \"|\", array.min(), \"|\", array.max())"
   ]
  },
  {
   "attachments": {},
   "cell_type": "markdown",
   "metadata": {},
   "source": [
    "**🧐 Given these properties, what could each arrays represent? Write your guess below!**\n",
    "\n"
   ]
  },
  {
   "cell_type": "code",
   "execution_count": null,
   "metadata": {},
   "outputs": [],
   "source": [
    "guess_1 = \"Something?\"\n",
    "guess_2 = \"Something?\"\n",
    "guess_3 = \"Something?\"\n",
    "guess_4 = \"Something?\""
   ]
  },
  {
   "cell_type": "markdown",
   "metadata": {},
   "source": [
    "## What is `array_1`?"
   ]
  },
  {
   "cell_type": "code",
   "execution_count": null,
   "metadata": {},
   "outputs": [],
   "source": [
    "print(array_1.ndim, \"|\", array_1.shape, \"|\", array_1.size, \"|\", array_1.dtype, \"|\", array_1.min(), \"|\", array_1.max())"
   ]
  },
  {
   "attachments": {},
   "cell_type": "markdown",
   "metadata": {},
   "source": [
    "👉 Plot `array_1` with `plt`"
   ]
  },
  {
   "cell_type": "code",
   "execution_count": null,
   "metadata": {
    "tags": [
     "challengify"
    ]
   },
   "outputs": [],
   "source": [
    "# YOUR CODE HERE"
   ]
  },
  {
   "cell_type": "markdown",
   "metadata": {},
   "source": [
    "👉 Does this \"shape\" *sound* familiar? Run the following snippet:"
   ]
  },
  {
   "cell_type": "code",
   "execution_count": null,
   "metadata": {},
   "outputs": [],
   "source": [
    "from IPython.display import Audio\n",
    "rate=48_000\n",
    "Audio(array_1, rate=rate)"
   ]
  },
  {
   "cell_type": "markdown",
   "metadata": {},
   "source": [
    "👉 Use NumPy's `slicing` to isolate one part of the sound"
   ]
  },
  {
   "cell_type": "code",
   "execution_count": null,
   "metadata": {},
   "outputs": [],
   "source": [
    "# YOUR CODE HERE\n",
    "\n"
   ]
  },
  {
   "attachments": {},
   "cell_type": "markdown",
   "metadata": {},
   "source": [
    "👉 Try dividing the rate by 2?"
   ]
  },
  {
   "cell_type": "code",
   "execution_count": null,
   "metadata": {},
   "outputs": [],
   "source": [
    "# YOUR CODE HERE\n",
    "\n"
   ]
  },
  {
   "attachments": {},
   "cell_type": "markdown",
   "metadata": {},
   "source": [
    "👉 Now you can use the [`scipy.io.wavfile.write`](https://docs.scipy.org/doc/scipy/reference/generated/scipy.io.wavfile.write.html) function to save the array as a WAV file. Give it a proper name ;) "
   ]
  },
  {
   "cell_type": "code",
   "execution_count": null,
   "metadata": {},
   "outputs": [],
   "source": [
    "from scipy.io import wavfile\n",
    "\n",
    "# YOUR CODE HERE\n",
    "\n",
    "\n",
    "\n",
    "# Check if you can open the file!"
   ]
  },
  {
   "cell_type": "markdown",
   "metadata": {},
   "source": [
    "## What is `array_2`?"
   ]
  },
  {
   "cell_type": "code",
   "execution_count": null,
   "metadata": {},
   "outputs": [],
   "source": [
    "print(array_2.ndim, \"|\", array_2.shape, \"|\", array_2.size, \"|\", array_2.dtype, \"|\", array_2.min(), \"|\", array_2.max())"
   ]
  },
  {
   "cell_type": "markdown",
   "metadata": {},
   "source": [
    "👉 Use `matplotlib.pyplot.imshow`, with the most appropriate [`cmap` (colormap)](https://matplotlib.org/stable/tutorials/colors/colormaps.html)"
   ]
  },
  {
   "cell_type": "code",
   "execution_count": null,
   "metadata": {},
   "outputs": [],
   "source": [
    "# YOUR CODE HERE\n",
    "\n"
   ]
  },
  {
   "cell_type": "markdown",
   "metadata": {},
   "source": [
    "👉 Use NumPy's `slicing` to isolate one part of the image"
   ]
  },
  {
   "cell_type": "code",
   "execution_count": null,
   "metadata": {},
   "outputs": [],
   "source": [
    "# YOUR CODE HERE\n",
    "\n"
   ]
  },
  {
   "attachments": {},
   "cell_type": "markdown",
   "metadata": {},
   "source": [
    "👉 What does the following line do? Show the resulting image with `matplotlib.pyplot.imshow`!\n",
    "\n",
    "<details>\n",
    "<summary><i>Answer</i></summary>\n",
    "    \n",
    "It downscales the image by taking only one 1 row out of 3 and 1 column out of 3 from the initial image\n",
    "</details>"
   ]
  },
  {
   "cell_type": "code",
   "execution_count": null,
   "metadata": {},
   "outputs": [],
   "source": [
    "array_2bis = array_2[::3, ::3]\n",
    "\n",
    "# YOUR CODE HERE\n",
    "\n"
   ]
  },
  {
   "cell_type": "markdown",
   "metadata": {},
   "source": [
    "👉 Run the following line to see how the pixels' value are distributed:"
   ]
  },
  {
   "cell_type": "code",
   "execution_count": null,
   "metadata": {},
   "outputs": [],
   "source": [
    "plt.hist(array_2bis.ravel(), bins=50);"
   ]
  },
  {
   "cell_type": "markdown",
   "metadata": {},
   "source": [
    "👉 What do the following lines do? \n",
    "\n",
    "<details>\n",
    "<summary><i>Answer</i></summary>\n",
    "    \n",
    "With NumPy's magic `boolean indexing`: \n",
    "\n",
    "- all values inferior to 0.5 are replaced by 0. (black)\n",
    "\n",
    "- all values superior to 0.5 are replaced by 1. (white)\n",
    "\n",
    "Here the image is *binarized*\n",
    "</details>"
   ]
  },
  {
   "cell_type": "code",
   "execution_count": null,
   "metadata": {},
   "outputs": [],
   "source": [
    "array_2ter = array_2bis.copy()\n",
    "array_2ter[array_2bis < 128] = 0\n",
    "array_2ter[array_2bis >= 128] = 1\n",
    "\n",
    "# YOUR CODE HERE\n",
    "\n"
   ]
  },
  {
   "cell_type": "markdown",
   "metadata": {},
   "source": [
    "👉 Save your image as a PNG file or as a JPEG file using [`matplotlib.pyplot.imsave`](https://matplotlib.org/stable/api/_as_gen/matplotlib.pyplot.imsave.html) (again, use the appropriate `cmap`)"
   ]
  },
  {
   "cell_type": "code",
   "execution_count": null,
   "metadata": {},
   "outputs": [],
   "source": [
    "# YOUR CODE HERE\n",
    "\n",
    "\n",
    "\n",
    "# Now check if you can open the file!"
   ]
  },
  {
   "cell_type": "markdown",
   "metadata": {},
   "source": [
    "## What is `array_3`?"
   ]
  },
  {
   "cell_type": "code",
   "execution_count": null,
   "metadata": {},
   "outputs": [],
   "source": [
    "print(array_3.ndim, \"|\", array_3.shape, \"|\", array_3.size, \"|\", array_3.dtype, \"|\", array_3.min(), \"|\", array_3.max())"
   ]
  },
  {
   "attachments": {},
   "cell_type": "markdown",
   "metadata": {},
   "source": [
    "👉 Inspect the *4 channels*, by running the following snippet of code"
   ]
  },
  {
   "cell_type": "code",
   "execution_count": null,
   "metadata": {},
   "outputs": [],
   "source": [
    "fig, axs = plt.subplots(1, 5, figsize=(12, 3))\n",
    "axi = axs.flat # axi is an \"iterator\" of axes\n",
    "\n",
    "ax = next(axi)\n",
    "ax.imshow(array_3, )\n",
    "ax.axis(\"off\")\n",
    "\n",
    "ax = next(axi)\n",
    "ax.imshow(array_3[:,:,0], cmap=\"gray\")\n",
    "ax.axis(\"off\")\n",
    "\n",
    "ax = next(axi)\n",
    "ax.imshow(array_3[:,:,1], cmap=\"gray\")\n",
    "ax.axis(\"off\")\n",
    "\n",
    "ax = next(axi)\n",
    "ax.imshow(array_3[:,:,2], cmap=\"gray\")\n",
    "ax.axis(\"off\")\n",
    "\n",
    "ax = next(axi)\n",
    "ax.imshow(array_3[:,:,3], cmap=\"gray\")\n",
    "ax.axis(\"off\");"
   ]
  },
  {
   "cell_type": "markdown",
   "metadata": {},
   "source": [
    "👉 Can you guess what are the four channels?\n",
    "\n",
    "<details>\n",
    "<summary><i>Answer</i></summary>\n",
    "RGB + A \n",
    "\n",
    "A (alpha) is the opacity channel. Here all pixels are 1. (= opaque).\n",
    "</details>"
   ]
  },
  {
   "attachments": {},
   "cell_type": "markdown",
   "metadata": {},
   "source": [
    "❓ **Let's figure-it out**\n",
    "- Create a new 2D array that, for each pixel of the original image, if the value in the *1st* channel (red) is inferior to 175 (out of 255), set a value to 1 (= opaque). Otherwise set it to 0 (= transparent).\n",
    "- Then, plot it with `cmap=\"Reds\"` and check your intuition!\n",
    "- Do it with Greens and Blues too!"
   ]
  },
  {
   "cell_type": "code",
   "execution_count": null,
   "metadata": {},
   "outputs": [],
   "source": [
    "# YOUR CODE HERE\n",
    "\n"
   ]
  },
  {
   "attachments": {},
   "cell_type": "markdown",
   "metadata": {},
   "source": [
    "☝️ The blue channel is interesting! It isolates almost perfectly the cat from its surrounding. Let's use this to make a transparent cat to copy paste on any background!"
   ]
  },
  {
   "attachments": {},
   "cell_type": "markdown",
   "metadata": {},
   "source": [
    "👉 What does the following line do? \n",
    "\n",
    "<details>\n",
    "  <summary markdown='span'>🎁 Answer</summary>\n",
    "\n",
    "\"For each pixel in initial image, if the intensity of blue channel is strong, set the opacity (4th channel) to max. Otherwise set it to 0 (= transparent)\"  \n",
    "\n",
    "</details>"
   ]
  },
  {
   "cell_type": "code",
   "execution_count": null,
   "metadata": {},
   "outputs": [],
   "source": [
    "array_3_transparent = array_3.copy()\n",
    "array_3_transparent[:,:,3] = (array_3_transparent[:,:,2] < 175).astype(int) * 255\n",
    "\n",
    "fig, axs = plt.subplots(1, 2, figsize=(12, 3))\n",
    "axi = axs.flat # axi is an \"iterator\" of axes\n",
    "\n",
    "ax = next(axi)\n",
    "ax.imshow(array_3, )\n",
    "ax.axis(\"off\")\n",
    "\n",
    "ax = next(axi)\n",
    "ax.imshow(array_3_transparent, )\n",
    "ax.axis(\"off\")"
   ]
  },
  {
   "attachments": {},
   "cell_type": "markdown",
   "metadata": {},
   "source": [
    "👉 Save this new array_3_bis as PNG file (⚠️ the JPG format does not support transparency)"
   ]
  },
  {
   "cell_type": "code",
   "execution_count": null,
   "metadata": {},
   "outputs": [],
   "source": [
    "# YOUR CODE HERE\n",
    "\n",
    "\n",
    "\n",
    "# Now, open it and paste it on a dark background!"
   ]
  },
  {
   "cell_type": "markdown",
   "metadata": {},
   "source": [
    "## What is `array_4`?"
   ]
  },
  {
   "cell_type": "code",
   "execution_count": null,
   "metadata": {},
   "outputs": [],
   "source": [
    "print(array_4.ndim, \"|\", array_4.shape, \"|\", array_4.size, \"|\", array_4.dtype, \"|\", array_4.min(), \"|\", array_4.max())"
   ]
  },
  {
   "cell_type": "markdown",
   "metadata": {},
   "source": [
    "👉 Inspect the frames by running the following snippet:"
   ]
  },
  {
   "cell_type": "code",
   "execution_count": null,
   "metadata": {},
   "outputs": [],
   "source": [
    "fig, axs = plt.subplots(2, 4, figsize=(12, 6)) \n",
    "axi = axs.flat\n",
    "for frame in np.arange(0, 38, 5):\n",
    "    ax = next(axi)\n",
    "    ax.imshow(array_4[frame, :, :, :]),\n",
    "    ax.axis(\"off\")"
   ]
  },
  {
   "cell_type": "markdown",
   "metadata": {},
   "source": [
    "👉 Feel free to do whatever transformation you want with it!"
   ]
  },
  {
   "cell_type": "code",
   "execution_count": null,
   "metadata": {},
   "outputs": [],
   "source": [
    "# YOUR CODE HERE"
   ]
  },
  {
   "cell_type": "markdown",
   "metadata": {},
   "source": [
    "👉 Save it as a GIF file!"
   ]
  },
  {
   "cell_type": "code",
   "execution_count": null,
   "metadata": {},
   "outputs": [],
   "source": [
    "from PIL import Image\n",
    "\n",
    "frames_img = [Image.fromarray(frame) for frame in array_4]\n",
    "first_frame = frames_img[0]\n",
    "first_frame.save(\"kitten.gif\", save_all=True, append_images=frames_img[1:], duration=100, loop=0)"
   ]
  },
  {
   "cell_type": "markdown",
   "metadata": {},
   "source": [
    "## Conclusion\n",
    "\n",
    "👏 Bravo! Now you're mastering **🎸 sound** and **🎨 image** treatment with Python... \n",
    "\n",
    "... and this is just a taste of the amazing Machine Learning / Deep Learning **🚀 projects** you're gonna do with those skills!!"
   ]
  }
 ],
 "metadata": {
  "kernelspec": {
   "display_name": "Python 3",
   "language": "python",
   "name": "python3"
  }
 },
 "nbformat": 4,
 "nbformat_minor": 5
}
